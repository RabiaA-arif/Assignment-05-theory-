{
  "nbformat": 4,
  "nbformat_minor": 0,
  "metadata": {
    "colab": {
      "provenance": [],
      "authorship_tag": "ABX9TyP6CmYAqLhVI0oz0SAr2UgP",
      "include_colab_link": true
    },
    "kernelspec": {
      "name": "python3",
      "display_name": "Python 3"
    },
    "language_info": {
      "name": "python"
    }
  },
  "cells": [
    {
      "cell_type": "markdown",
      "metadata": {
        "id": "view-in-github",
        "colab_type": "text"
      },
      "source": [
        "<a href=\"https://colab.research.google.com/github/RabiaA-arif/Assignment-05-theory-/blob/main/Assignment_of_function.ipynb\" target=\"_parent\"><img src=\"https://colab.research.google.com/assets/colab-badge.svg\" alt=\"Open In Colab\"/></a>"
      ]
    },
    {
      "cell_type": "markdown",
      "source": [
        "Movie.ticket.price"
      ],
      "metadata": {
        "id": "JBwadCd5VhUv"
      }
    },
    {
      "cell_type": "code",
      "source": [
        "    # write a function that calculate the movie ticket price based on age (adult, child, senior)#\n",
        "    # and the day of week weekday weekend #\n",
        "\n",
        "def ticket():\n",
        "    price_child=300\n",
        "    price_adult=420\n",
        "    price_senior=470\n",
        "    age=int(input(\"enter the age:\"))\n",
        "\n",
        "    if age  <18:\n",
        "        print(price_child,\"the price of movie ticket for child\")\n",
        "    elif age >=18 <= 40:\n",
        "        print(price_senior,\"the price of movie ticket for senoir\")\n",
        "    elif age >= 40:\n",
        "        print(price_adult)\n",
        "    price1=400\n",
        "    price2=500\n",
        "    day = int(input(\"enter the number of day\"))\n",
        "    if day == 1:\n",
        "        print(price1)\n",
        "\n",
        "    if day == 2:\n",
        "        print(price1)\n",
        "\n",
        "    if day == 3:\n",
        "        print(price1)\n",
        "\n",
        "    if day == 4:\n",
        "        print(price1)\n",
        "\n",
        "    if day == 5:\n",
        "        print(price1)\n",
        "\n",
        "    if day == 6:\n",
        "        print(price2)\n",
        "\n",
        "    if day == 7:\n",
        "        print(price2)\n",
        "\n",
        "    groups_pakages=int(input(\"enter the number of people in groups: \"))\n",
        "    if groups_pakages >=10:\n",
        "        print(price2 * 0.9,\"congratulation for discount you get, enjoy your movie\")\n",
        "    elif groups_pakages <10:\n",
        "        print(\"sorry discount is not offer\")\n",
        "\n",
        "ticket()\n",
        "ticket()\n",
        "ticket()\n",
        "ticket()\n",
        "ticket()\n",
        "ticket()\n",
        "\n",
        "\n",
        "\n",
        "\n",
        "\n"
      ],
      "metadata": {
        "colab": {
          "base_uri": "https://localhost:8080/",
          "height": 140
        },
        "id": "ELrT8gmoV3AK",
        "outputId": "be86277a-5148-4ace-ff9a-97e894e3abac"
      },
      "execution_count": 2,
      "outputs": [
        {
          "output_type": "error",
          "ename": "IndentationError",
          "evalue": "expected an indented block after function definition on line 4 (<ipython-input-2-dda8977b31b7>, line 6)",
          "traceback": [
            "\u001b[0;36m  File \u001b[0;32m\"<ipython-input-2-dda8977b31b7>\"\u001b[0;36m, line \u001b[0;32m6\u001b[0m\n\u001b[0;31m    price_child=300\u001b[0m\n\u001b[0m    ^\u001b[0m\n\u001b[0;31mIndentationError\u001b[0m\u001b[0;31m:\u001b[0m expected an indented block after function definition on line 4\n"
          ]
        }
      ]
    },
    {
      "cell_type": "code",
      "execution_count": null,
      "metadata": {
        "id": "cy1xdyMQU7TJ"
      },
      "outputs": [],
      "source": []
    },
    {
      "cell_type": "markdown",
      "source": [],
      "metadata": {
        "id": "KpYryRlRVEmT"
      }
    }
  ]
}